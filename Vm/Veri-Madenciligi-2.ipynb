{
 "cells": [
  {
   "cell_type": "markdown",
   "metadata": {},
   "source": [
    "Ahmet Rasim Özcan - 21040301060 - Veri Madenciliği - Sajjad Nematzadeh Miandoab -Yazilim Muhendisligi-Muhendislik Fakultesi-Topkapı Universitesi"
   ]
  },
  {
   "cell_type": "markdown",
   "metadata": {},
   "source": [
    "https://www.kaggle.com/datasets/rkiattisak/student-performance-in-mathematics?resource=download"
   ]
  },
  {
   "cell_type": "markdown",
   "metadata": {},
   "source": [
    "Bu veri seti, ebeveyn eğitiminin veya sınava hazırlık kurslarının öğrenci performansı üzerindeki etkisini incelemek gibi eğitimle ilgili çeşitli araştırma soruları için kullanılabilir. Demografik ve diğer faktörlere dayalı olarak öğrenci performansını tahmin etmek için makine öğrenimi modelleri geliştirmek için de kullanılabilir."
   ]
  },
  {
   "cell_type": "code",
   "execution_count": 1,
   "metadata": {},
   "outputs": [],
   "source": [
    "import pandas as pd\n",
    "import seaborn as sns\n",
    "import matplotlib as mpl\n",
    "import matplotlib.pyplot as plt\n",
    "from sklearn.linear_model import LinearRegression\n",
    "from sklearn.metrics import mean_squared_error, r2_score\n",
    "from sklearn.model_selection import train_test_split\n",
    "from sklearn.ensemble import RandomForestRegressor\n",
    "from sklearn.ensemble import RandomForestClassifier\n",
    "from sklearn.metrics import accuracy_score\n"
   ]
  },
  {
   "cell_type": "code",
   "execution_count": 2,
   "metadata": {},
   "outputs": [],
   "source": [
    "df = pd.read_csv(\"exams.csv\")"
   ]
  },
  {
   "cell_type": "code",
   "execution_count": 3,
   "metadata": {},
   "outputs": [
    {
     "data": {
      "text/html": [
       "<div>\n",
       "<style scoped>\n",
       "    .dataframe tbody tr th:only-of-type {\n",
       "        vertical-align: middle;\n",
       "    }\n",
       "\n",
       "    .dataframe tbody tr th {\n",
       "        vertical-align: top;\n",
       "    }\n",
       "\n",
       "    .dataframe thead th {\n",
       "        text-align: right;\n",
       "    }\n",
       "</style>\n",
       "<table border=\"1\" class=\"dataframe\">\n",
       "  <thead>\n",
       "    <tr style=\"text-align: right;\">\n",
       "      <th></th>\n",
       "      <th>gender</th>\n",
       "      <th>race/ethnicity</th>\n",
       "      <th>parental level of education</th>\n",
       "      <th>lunch</th>\n",
       "      <th>test preparation course</th>\n",
       "      <th>math score</th>\n",
       "      <th>reading score</th>\n",
       "      <th>writing score</th>\n",
       "    </tr>\n",
       "  </thead>\n",
       "  <tbody>\n",
       "    <tr>\n",
       "      <th>0</th>\n",
       "      <td>female</td>\n",
       "      <td>group D</td>\n",
       "      <td>some college</td>\n",
       "      <td>standard</td>\n",
       "      <td>completed</td>\n",
       "      <td>59</td>\n",
       "      <td>70</td>\n",
       "      <td>78</td>\n",
       "    </tr>\n",
       "    <tr>\n",
       "      <th>1</th>\n",
       "      <td>male</td>\n",
       "      <td>group D</td>\n",
       "      <td>associate's degree</td>\n",
       "      <td>standard</td>\n",
       "      <td>none</td>\n",
       "      <td>96</td>\n",
       "      <td>93</td>\n",
       "      <td>87</td>\n",
       "    </tr>\n",
       "    <tr>\n",
       "      <th>2</th>\n",
       "      <td>female</td>\n",
       "      <td>group D</td>\n",
       "      <td>some college</td>\n",
       "      <td>free/reduced</td>\n",
       "      <td>none</td>\n",
       "      <td>57</td>\n",
       "      <td>76</td>\n",
       "      <td>77</td>\n",
       "    </tr>\n",
       "    <tr>\n",
       "      <th>3</th>\n",
       "      <td>male</td>\n",
       "      <td>group B</td>\n",
       "      <td>some college</td>\n",
       "      <td>free/reduced</td>\n",
       "      <td>none</td>\n",
       "      <td>70</td>\n",
       "      <td>70</td>\n",
       "      <td>63</td>\n",
       "    </tr>\n",
       "    <tr>\n",
       "      <th>4</th>\n",
       "      <td>female</td>\n",
       "      <td>group D</td>\n",
       "      <td>associate's degree</td>\n",
       "      <td>standard</td>\n",
       "      <td>none</td>\n",
       "      <td>83</td>\n",
       "      <td>85</td>\n",
       "      <td>86</td>\n",
       "    </tr>\n",
       "    <tr>\n",
       "      <th>...</th>\n",
       "      <td>...</td>\n",
       "      <td>...</td>\n",
       "      <td>...</td>\n",
       "      <td>...</td>\n",
       "      <td>...</td>\n",
       "      <td>...</td>\n",
       "      <td>...</td>\n",
       "      <td>...</td>\n",
       "    </tr>\n",
       "    <tr>\n",
       "      <th>995</th>\n",
       "      <td>male</td>\n",
       "      <td>group C</td>\n",
       "      <td>some college</td>\n",
       "      <td>standard</td>\n",
       "      <td>none</td>\n",
       "      <td>77</td>\n",
       "      <td>77</td>\n",
       "      <td>71</td>\n",
       "    </tr>\n",
       "    <tr>\n",
       "      <th>996</th>\n",
       "      <td>male</td>\n",
       "      <td>group C</td>\n",
       "      <td>some college</td>\n",
       "      <td>standard</td>\n",
       "      <td>none</td>\n",
       "      <td>80</td>\n",
       "      <td>66</td>\n",
       "      <td>66</td>\n",
       "    </tr>\n",
       "    <tr>\n",
       "      <th>997</th>\n",
       "      <td>female</td>\n",
       "      <td>group A</td>\n",
       "      <td>high school</td>\n",
       "      <td>standard</td>\n",
       "      <td>completed</td>\n",
       "      <td>67</td>\n",
       "      <td>86</td>\n",
       "      <td>86</td>\n",
       "    </tr>\n",
       "    <tr>\n",
       "      <th>998</th>\n",
       "      <td>male</td>\n",
       "      <td>group E</td>\n",
       "      <td>high school</td>\n",
       "      <td>standard</td>\n",
       "      <td>none</td>\n",
       "      <td>80</td>\n",
       "      <td>72</td>\n",
       "      <td>62</td>\n",
       "    </tr>\n",
       "    <tr>\n",
       "      <th>999</th>\n",
       "      <td>male</td>\n",
       "      <td>group D</td>\n",
       "      <td>high school</td>\n",
       "      <td>standard</td>\n",
       "      <td>none</td>\n",
       "      <td>58</td>\n",
       "      <td>47</td>\n",
       "      <td>45</td>\n",
       "    </tr>\n",
       "  </tbody>\n",
       "</table>\n",
       "<p>1000 rows × 8 columns</p>\n",
       "</div>"
      ],
      "text/plain": [
       "     gender race/ethnicity parental level of education         lunch  \\\n",
       "0    female        group D                some college      standard   \n",
       "1      male        group D          associate's degree      standard   \n",
       "2    female        group D                some college  free/reduced   \n",
       "3      male        group B                some college  free/reduced   \n",
       "4    female        group D          associate's degree      standard   \n",
       "..      ...            ...                         ...           ...   \n",
       "995    male        group C                some college      standard   \n",
       "996    male        group C                some college      standard   \n",
       "997  female        group A                 high school      standard   \n",
       "998    male        group E                 high school      standard   \n",
       "999    male        group D                 high school      standard   \n",
       "\n",
       "    test preparation course  math score  reading score  writing score  \n",
       "0                 completed          59             70             78  \n",
       "1                      none          96             93             87  \n",
       "2                      none          57             76             77  \n",
       "3                      none          70             70             63  \n",
       "4                      none          83             85             86  \n",
       "..                      ...         ...            ...            ...  \n",
       "995                    none          77             77             71  \n",
       "996                    none          80             66             66  \n",
       "997               completed          67             86             86  \n",
       "998                    none          80             72             62  \n",
       "999                    none          58             47             45  \n",
       "\n",
       "[1000 rows x 8 columns]"
      ]
     },
     "execution_count": 3,
     "metadata": {},
     "output_type": "execute_result"
    }
   ],
   "source": [
    "df"
   ]
  },
  {
   "cell_type": "code",
   "execution_count": 4,
   "metadata": {},
   "outputs": [
    {
     "name": "stdout",
     "output_type": "stream",
     "text": [
      "Genel İstatistikler:\n",
      "        math score  reading score  writing score\n",
      "count  1000.000000    1000.000000    1000.000000\n",
      "mean     67.810000      70.382000      69.140000\n",
      "std      15.250196      14.107413      15.025917\n",
      "min      15.000000      25.000000      15.000000\n",
      "25%      58.000000      61.000000      59.000000\n",
      "50%      68.000000      70.500000      70.000000\n",
      "75%      79.250000      80.000000      80.000000\n",
      "max     100.000000     100.000000     100.000000\n",
      "\n",
      "Satır Sayısı: 1000\n",
      "\n",
      "Sütunlar: ['gender', 'race/ethnicity', 'parental level of education', 'lunch', 'test preparation course', 'math score', 'reading score', 'writing score']\n",
      "\n",
      "Veri Tipleri:\n",
      "gender                         object\n",
      "race/ethnicity                 object\n",
      "parental level of education    object\n",
      "lunch                          object\n",
      "test preparation course        object\n",
      "math score                      int64\n",
      "reading score                   int64\n",
      "writing score                   int64\n",
      "dtype: object\n"
     ]
    }
   ],
   "source": [
    "istatistikler = df.describe()\n",
    "\n",
    "# Satır sayısı\n",
    "satir_sayisi = len(df)\n",
    "\n",
    "# Sütunlar\n",
    "sutunlar = df.columns.tolist()\n",
    "\n",
    "# Veri tipleri\n",
    "veri_tipleri = df.dtypes\n",
    "\n",
    "# Sonuçları yazdır\n",
    "print(\"Genel İstatistikler:\")\n",
    "print(istatistikler)\n",
    "print(\"\\nSatır Sayısı:\", satir_sayisi)\n",
    "print(\"\\nSütunlar:\", sutunlar)\n",
    "print(\"\\nVeri Tipleri:\")\n",
    "print(veri_tipleri)"
   ]
  },
  {
   "cell_type": "code",
   "execution_count": 5,
   "metadata": {},
   "outputs": [
    {
     "name": "stdout",
     "output_type": "stream",
     "text": [
      "Veri Seti Önizleme:\n",
      "   gender race/ethnicity parental level of education         lunch  \\\n",
      "0  female        group D                some college      standard   \n",
      "1    male        group D          associate's degree      standard   \n",
      "2  female        group D                some college  free/reduced   \n",
      "3    male        group B                some college  free/reduced   \n",
      "4  female        group D          associate's degree      standard   \n",
      "\n",
      "  test preparation course  math score  reading score  writing score  \n",
      "0               completed          59             70             78  \n",
      "1                    none          96             93             87  \n",
      "2                    none          57             76             77  \n",
      "3                    none          70             70             63  \n",
      "4                    none          83             85             86  \n",
      "\n",
      "Label Encoding Sonrası Veri Seti:\n",
      "   gender  race/ethnicity  parental level of education  lunch  \\\n",
      "0       0               3                            4      1   \n",
      "1       1               3                            0      1   \n",
      "2       0               3                            4      0   \n",
      "3       1               1                            4      0   \n",
      "4       0               3                            0      1   \n",
      "\n",
      "   test preparation course  math score  reading score  writing score  \n",
      "0                        0          59             70             78  \n",
      "1                        1          96             93             87  \n",
      "2                        1          57             76             77  \n",
      "3                        1          70             70             63  \n",
      "4                        1          83             85             86  \n"
     ]
    }
   ],
   "source": [
    "from sklearn.preprocessing import LabelEncoder\n",
    "\n",
    "# CSV dosyasını oku\n",
    "df = pd.read_csv('exams.csv')\n",
    "\n",
    "# Veri setinin ilk birkaç satırını gösterme\n",
    "print(\"Veri Seti Önizleme:\")\n",
    "print(df.head())\n",
    "\n",
    "# Kategorik sütunları Label Encoding uygula\n",
    "label_encoder = LabelEncoder()\n",
    "\n",
    "# Her bir kategorik sütun için dön\n",
    "for column in df.select_dtypes(include=['object']).columns:\n",
    "    df[column] = label_encoder.fit_transform(df[column])\n",
    "\n",
    "# Label Encoding uygulandıktan sonraki veri setini gösterme\n",
    "print(\"\\nLabel Encoding Sonrası Veri Seti:\")\n",
    "print(df.head())"
   ]
  },
  {
   "cell_type": "markdown",
   "metadata": {},
   "source": [
    "LabelEncoder kullanarak bir CSV dosyasındaki kategorik sütunlardaki verileri sayısal değerlere dönüştürdum.Bu şekilde, kategorik verileri makine öğrenimi modellerine uygun hale getirmiş olursunuz. Sayısal değerlere dönüştürmek, model eğitimi için gereklidir çünkü birçok makine öğrenimi algoritması sayısal verilerle daha iyi çalışır."
   ]
  },
  {
   "cell_type": "code",
   "execution_count": 6,
   "metadata": {},
   "outputs": [
    {
     "name": "stderr",
     "output_type": "stream",
     "text": [
      "c:\\Users\\ahmet\\anaconda3\\envs\\AhmetRasimOzcan\\lib\\site-packages\\seaborn\\_oldcore.py:1498: FutureWarning: is_categorical_dtype is deprecated and will be removed in a future version. Use isinstance(dtype, CategoricalDtype) instead\n",
      "  if pd.api.types.is_categorical_dtype(vector):\n",
      "c:\\Users\\ahmet\\anaconda3\\envs\\AhmetRasimOzcan\\lib\\site-packages\\seaborn\\_oldcore.py:1498: FutureWarning: is_categorical_dtype is deprecated and will be removed in a future version. Use isinstance(dtype, CategoricalDtype) instead\n",
      "  if pd.api.types.is_categorical_dtype(vector):\n",
      "c:\\Users\\ahmet\\anaconda3\\envs\\AhmetRasimOzcan\\lib\\site-packages\\seaborn\\_oldcore.py:1498: FutureWarning: is_categorical_dtype is deprecated and will be removed in a future version. Use isinstance(dtype, CategoricalDtype) instead\n",
      "  if pd.api.types.is_categorical_dtype(vector):\n",
      "c:\\Users\\ahmet\\anaconda3\\envs\\AhmetRasimOzcan\\lib\\site-packages\\seaborn\\_oldcore.py:1498: FutureWarning: is_categorical_dtype is deprecated and will be removed in a future version. Use isinstance(dtype, CategoricalDtype) instead\n",
      "  if pd.api.types.is_categorical_dtype(vector):\n"
     ]
    },
    {
     "data": {
      "image/png": "[encoded data removed]",
      "text/plain": [
       "<Figure size 1400x700 with 1 Axes>"
      ]
     },
     "metadata": {},
     "output_type": "display_data"
    }
   ],
   "source": [
    "df = pd.read_csv('exams.csv')\n",
    "\n",
    "# Kategorik sütunları Label Encoding uygula\n",
    "label_encoder = LabelEncoder()\n",
    "\n",
    "for column in df.select_dtypes(include=['object']).columns:\n",
    "    df[column] = label_encoder.fit_transform(df[column])\n",
    "\n",
    "# Keman Grafiği (Violin Plot) çizimi\n",
    "plt.figure(figsize=(14, 7))\n",
    "sns.violinplot(x='race/ethnicity', y='math score', hue='gender', data=df, split=True, palette='muted', inner='quartile')\n",
    "plt.title('Irk/Etnik Köken ve Cinsiyetin Matematik Notları Üzerindeki Etkisi')\n",
    "plt.xlabel('Irk/Etnik Köken')\n",
    "plt.ylabel('Matematik Notları')\n",
    "plt.show()"
   ]
  },
  {
   "cell_type": "markdown",
   "metadata": {},
   "source": [
    "1. Keman Grafiği (Violin Plot):\n",
    "Bu grafik, öğrencilerin ırk/etnik kökenlerine ve cinsiyetlerine göre matematik notlarının dağılımını gösterir.\n",
    "\n",
    "X Ekseni (race/ethnicity): Grafikte x eksenindeki her bir kategori, öğrencilerin ırk/etnik kökenini temsil eder.\n",
    "Y Ekseni (math score): Y ekseni, öğrencilerin matematik notlarını gösterir.\n",
    "Renklendirme (hue='gender'): Her kategorik ırk/etnik kökenin içinde, cinsiyetin ayrımını yapmak için renk kullanılır.\n",
    "Split=True: Violin grafiğin içindeki beyaz çizgi, veri setindeki notların dağılımını gösterir.\n",
    "Palette='muted': Keman grafiği renk paletini belirler.\n",
    "Bu grafik, ırk/etnik kökenlere ve cinsiyete göre matematik notlarının dağılımını, medyanları ve veri setinin genel özelliklerini anlamanıza yardımcı olacaktır."
   ]
  },
  {
   "cell_type": "code",
   "execution_count": 7,
   "metadata": {},
   "outputs": [
    {
     "name": "stderr",
     "output_type": "stream",
     "text": [
      "c:\\Users\\ahmet\\anaconda3\\envs\\AhmetRasimOzcan\\lib\\site-packages\\seaborn\\_oldcore.py:1498: FutureWarning: is_categorical_dtype is deprecated and will be removed in a future version. Use isinstance(dtype, CategoricalDtype) instead\n",
      "  if pd.api.types.is_categorical_dtype(vector):\n",
      "c:\\Users\\ahmet\\anaconda3\\envs\\AhmetRasimOzcan\\lib\\site-packages\\seaborn\\_oldcore.py:1498: FutureWarning: is_categorical_dtype is deprecated and will be removed in a future version. Use isinstance(dtype, CategoricalDtype) instead\n",
      "  if pd.api.types.is_categorical_dtype(vector):\n",
      "c:\\Users\\ahmet\\anaconda3\\envs\\AhmetRasimOzcan\\lib\\site-packages\\seaborn\\_oldcore.py:1498: FutureWarning: is_categorical_dtype is deprecated and will be removed in a future version. Use isinstance(dtype, CategoricalDtype) instead\n",
      "  if pd.api.types.is_categorical_dtype(vector):\n"
     ]
    },
    {
     "data": {
      "image/png": "[encoded data removed]",
      "text/plain": [
       "<Figure size 1200x600 with 1 Axes>"
      ]
     },
     "metadata": {},
     "output_type": "display_data"
    }
   ],
   "source": [
    "df = pd.read_csv('exams.csv')\n",
    "\n",
    "# Kategorik sütunları Label Encoding uygula\n",
    "label_encoder = LabelEncoder()\n",
    "\n",
    "for column in df.select_dtypes(include=['object']).columns:\n",
    "    df[column] = label_encoder.fit_transform(df[column])\n",
    "\n",
    "# Sütun Grafiği (Bar Plot) çizimi\n",
    "plt.figure(figsize=(12, 6))\n",
    "sns.barplot(x='parental level of education', y='math score', data=df, palette='pastel')\n",
    "plt.title('Ebeveyn Eğitim Düzeyinin Matematik Notları Üzerindeki Etkisi')\n",
    "plt.xlabel('Ebeveyn Eğitim Düzeyi')\n",
    "plt.ylabel('Matematik Notları')\n",
    "plt.xticks(rotation=45, ha='right')  # Eğitim düzeyi etiketlerini yatay olarak düzenle\n",
    "plt.show()"
   ]
  },
  {
   "cell_type": "markdown",
   "metadata": {},
   "source": [
    "2. Sütun Grafiği (Bar Plot):\n",
    "Bu grafikte, ebeveynlerin eğitim düzeyine göre matematik notlarının ortalamalarını gösteren bir sütun grafiği bulunmaktadır.\n",
    "\n",
    "X Ekseni (parental level of education): Grafikte x eksenindeki her bir çubuk, öğrencilerin ebeveynlerinin eğitim düzeyini temsil eder.\n",
    "Y Ekseni (math score): Y ekseni, her eğitim düzeyine karşılık gelen matematik notlarının ortalamasını gösterir.\n",
    "Renklendirme (palette='pastel'): Her sütun çubuğu için renk paleti belirlenir.\n",
    "xticks(rotation=45, ha='right'): Eğitim düzeyi etiketlerini yatay olarak düzenler, bu da okunabilirliği artırır.\n",
    "Bu grafik, ebeveyn eğitim düzeyinin matematik notları üzerindeki genel etkisini gösterir."
   ]
  },
  {
   "cell_type": "code",
   "execution_count": 8,
   "metadata": {},
   "outputs": [
    {
     "name": "stdout",
     "output_type": "stream",
     "text": [
      "Accuracy: 0.65\n",
      "              precision    recall  f1-score   support\n",
      "\n",
      "   completed       0.60      0.31      0.41        78\n",
      "        none       0.66      0.87      0.75       122\n",
      "\n",
      "    accuracy                           0.65       200\n",
      "   macro avg       0.63      0.59      0.58       200\n",
      "weighted avg       0.64      0.65      0.62       200\n",
      "\n"
     ]
    }
   ],
   "source": [
    "import pandas as pd\n",
    "from sklearn.model_selection import train_test_split\n",
    "from sklearn.ensemble import RandomForestClassifier  # Ekleme\n",
    "from sklearn.metrics import accuracy_score, classification_report\n",
    "from sklearn.preprocessing import LabelEncoder\n",
    "df = pd.read_csv('exams.csv')\n",
    "\n",
    "# Veriyi hazırla\n",
    "X = df.drop('test preparation course', axis=1)\n",
    "y = df['test preparation course']\n",
    "\n",
    "# Label Encoding\n",
    "label_encoder = LabelEncoder()\n",
    "for column in X.select_dtypes(include=['object']).columns:\n",
    "    X[column] = label_encoder.fit_transform(X[column])\n",
    "\n",
    "# Veriyi eğitim ve test setlerine ayır\n",
    "X_train, X_test, y_train, y_test = train_test_split(X, y, test_size=0.2, random_state=42)\n",
    "\n",
    "# Classification modelini seç ve eğit\n",
    "classifier = RandomForestClassifier(random_state=42)\n",
    "classifier.fit(X_train, y_train)\n",
    "\n",
    "# Tahmin yap\n",
    "y_pred = classifier.predict(X_test)\n",
    "\n",
    "# Sonuçları değerlendir\n",
    "accuracy = accuracy_score(y_test, y_pred)\n",
    "print(f\"Accuracy: {accuracy}\")\n",
    "print(classification_report(y_test, y_pred))"
   ]
  },
  {
   "cell_type": "markdown",
   "metadata": {},
   "source": [
    "Problem Tanımı:\n",
    "Veri Seti:\n",
    "Elimizdeki \"exams.csv\" veri seti, öğrencilerin matematik, okuma ve yazma sınavlarındaki performanslarına ilişkin demografik bilgileri içermektedir.\n",
    "\n",
    "Hedef:\n",
    "Öğrencilerin matematik sınavındaki başarılarını tahmin etmek.\n",
    "\n",
    "Detaylı Açıklama:\n",
    "Öğrencilerin matematik sınavındaki performansını etkileyen faktörleri anlamak ve bu faktörlerin tahmin edici gücünü değerlendirmek istiyoruz. Bu, öğrencilerin demografik özellikleri (cinsiyet, ırk/etnik köken, ebeveyn eğitim düzeyi) ve diğer değişkenlerin (öğle yemeği, sınav hazırlık kursu) matematik sınavındaki puanları üzerindeki etkisini anlamak için bir çaba.\n",
    "\n",
    "Yöntem Seçimi:\n",
    "Bu durumda, öğrencilerin matematik sınavındaki puanlarını tahmin etmek, bir Regression (Regresyon) problemidir. Çünkü hedef değişkenimiz sayısal bir değer alır (matematik puanı).\n",
    "\n",
    "Target Sütunu:\n",
    "\"math score\" sütununu hedef değişken olarak seçiyoruz. Bu sütun, öğrencilerin matematik sınavındaki başarılarını temsil etmektedir."
   ]
  },
  {
   "cell_type": "markdown",
   "metadata": {},
   "source": [
    "Decision Tree Classifier:\n",
    "\n",
    "Açıklama: Karar ağacı, bir veri seti içindeki desenleri ve ilişkileri öğrenen bir sınıflandırma algoritmasıdır. Bu ağaç yapısı, bir dizi karar düğümü içerir ve her düğüm, belirli bir özelliği temsil eder. Bu özellikler, veriyi belirli bir kriterle bölerek sınıflandırmayı sağlar.\n",
    "Çalışma Prensibi: Veri seti içindeki en iyi bölünme noktalarını (veya kararları) seçerek ağacı oluşturur. Bu bölünmeler, veriyi homojen alt gruplara ayırarak sınıflandırma yapmayı sağlar.\n",
    "Avantajlar: Basit anlaşılır bir yapısı vardır, sınıflandırma işlemlerinde etkili olabilir.\n",
    "Dezavantajlar: Aşırı uyum (overfitting) eğilimli olabilir, veri setindeki küçük değişikliklere hassas olabilir.\n",
    "Random Forest Regressor:\n",
    "\n",
    "Açıklama: Random Forest, birçok karar ağacını birleştiren bir ansamble (ensemble) algoritmasıdır. Bu algoritma, birden fazla karar ağacının tahminlerini bir araya getirerek daha genel ve güvenilir bir tahmin yapmayı amaçlar.\n",
    "Çalışma Prensibi: Bir Random Forest, farklı alt veri setlerini kullanarak bir dizi karar ağacı oluşturur. Her ağaç, veri setinin bir alt kümesiyle eğitilir. Tahmin yapılırken, her ağacın tahminleri alınır ve bu tahminler arasında bir ortalama veya çoğunluk oylaması yapılır.\n",
    "Avantajlar: Overfitting'e karşı daha dirençli olabilir, yüksek boyutta ve yüksek boyuttaki veri setlerinde iyi performans gösterebilir.\n",
    "Dezavantajlar: Modelin iç yapısını anlamak genellikle zordur, tek bir ağacın sağlayabileceği yorumlanabilirlik avantajını kaybedebilir.\n",
    "Her iki algoritma da sınıflandırma (classification) görevlerinde kullanılır. Random Forest, Decision Tree'nin aşırı uydurmaya karşı daha dirençli olması ve genellikle daha iyi genelleme yapabilmesi nedeniyle tercih edilir."
   ]
  },
  {
   "cell_type": "code",
   "execution_count": 10,
   "metadata": {},
   "outputs": [
    {
     "name": "stderr",
     "output_type": "stream",
     "text": [
      "c:\\Users\\ahmet\\anaconda3\\envs\\AhmetRasimOzcan\\lib\\site-packages\\sklearn\\metrics\\_classification.py:1469: UndefinedMetricWarning: Recall is ill-defined and being set to 0.0 in labels with no true samples. Use `zero_division` parameter to control this behavior.\n",
      "  _warn_prf(average, modifier, msg_start, len(result))\n",
      "c:\\Users\\ahmet\\anaconda3\\envs\\AhmetRasimOzcan\\lib\\site-packages\\sklearn\\metrics\\_classification.py:1469: UndefinedMetricWarning: Precision is ill-defined and being set to 0.0 in labels with no predicted samples. Use `zero_division` parameter to control this behavior.\n",
      "  _warn_prf(average, modifier, msg_start, len(result))\n"
     ]
    },
    {
     "name": "stdout",
     "output_type": "stream",
     "text": [
      "\n",
      "Döngü 1 - Random Forest Sınıflandırma Sonuçları:\n",
      "R2 Score: 0.7371414441147379\n",
      "F1 Score: 0.04016722656428538\n",
      "Recall: 0.04795751633986928\n",
      "Precision: 0.03872549019607843\n"
     ]
    },
    {
     "name": "stderr",
     "output_type": "stream",
     "text": [
      "c:\\Users\\ahmet\\anaconda3\\envs\\AhmetRasimOzcan\\lib\\site-packages\\sklearn\\metrics\\_classification.py:1469: UndefinedMetricWarning: Recall is ill-defined and being set to 0.0 in labels with no true samples. Use `zero_division` parameter to control this behavior.\n",
      "  _warn_prf(average, modifier, msg_start, len(result))\n",
      "c:\\Users\\ahmet\\anaconda3\\envs\\AhmetRasimOzcan\\lib\\site-packages\\sklearn\\metrics\\_classification.py:1469: UndefinedMetricWarning: Precision is ill-defined and being set to 0.0 in labels with no predicted samples. Use `zero_division` parameter to control this behavior.\n",
      "  _warn_prf(average, modifier, msg_start, len(result))\n"
     ]
    },
    {
     "name": "stdout",
     "output_type": "stream",
     "text": [
      "\n",
      "Döngü 2 - Random Forest Sınıflandırma Sonuçları:\n",
      "R2 Score: 0.7362281632945727\n",
      "F1 Score: 0.03684633050830234\n",
      "Recall: 0.03326728045037904\n",
      "Precision: 0.049782025486250846\n"
     ]
    },
    {
     "name": "stderr",
     "output_type": "stream",
     "text": [
      "c:\\Users\\ahmet\\anaconda3\\envs\\AhmetRasimOzcan\\lib\\site-packages\\sklearn\\metrics\\_classification.py:1469: UndefinedMetricWarning: Recall is ill-defined and being set to 0.0 in labels with no true samples. Use `zero_division` parameter to control this behavior.\n",
      "  _warn_prf(average, modifier, msg_start, len(result))\n",
      "c:\\Users\\ahmet\\anaconda3\\envs\\AhmetRasimOzcan\\lib\\site-packages\\sklearn\\metrics\\_classification.py:1469: UndefinedMetricWarning: Precision is ill-defined and being set to 0.0 in labels with no predicted samples. Use `zero_division` parameter to control this behavior.\n",
      "  _warn_prf(average, modifier, msg_start, len(result))\n"
     ]
    },
    {
     "name": "stdout",
     "output_type": "stream",
     "text": [
      "\n",
      "Döngü 3 - Random Forest Sınıflandırma Sonuçları:\n",
      "R2 Score: 0.759010151366814\n",
      "F1 Score: 0.017276282493673797\n",
      "Recall: 0.018857832988267768\n",
      "Precision: 0.018989223337049423\n"
     ]
    },
    {
     "name": "stderr",
     "output_type": "stream",
     "text": [
      "c:\\Users\\ahmet\\anaconda3\\envs\\AhmetRasimOzcan\\lib\\site-packages\\sklearn\\metrics\\_classification.py:1469: UndefinedMetricWarning: Recall is ill-defined and being set to 0.0 in labels with no true samples. Use `zero_division` parameter to control this behavior.\n",
      "  _warn_prf(average, modifier, msg_start, len(result))\n",
      "c:\\Users\\ahmet\\anaconda3\\envs\\AhmetRasimOzcan\\lib\\site-packages\\sklearn\\metrics\\_classification.py:1469: UndefinedMetricWarning: Precision is ill-defined and being set to 0.0 in labels with no predicted samples. Use `zero_division` parameter to control this behavior.\n",
      "  _warn_prf(average, modifier, msg_start, len(result))\n"
     ]
    },
    {
     "name": "stdout",
     "output_type": "stream",
     "text": [
      "\n",
      "Döngü 4 - Random Forest Sınıflandırma Sonuçları:\n",
      "R2 Score: 0.7287158576774841\n",
      "F1 Score: 0.05890947288006112\n",
      "Recall: 0.07011554621848738\n",
      "Precision: 0.06758286647992529\n"
     ]
    },
    {
     "name": "stderr",
     "output_type": "stream",
     "text": [
      "c:\\Users\\ahmet\\anaconda3\\envs\\AhmetRasimOzcan\\lib\\site-packages\\sklearn\\metrics\\_classification.py:1469: UndefinedMetricWarning: Recall is ill-defined and being set to 0.0 in labels with no true samples. Use `zero_division` parameter to control this behavior.\n",
      "  _warn_prf(average, modifier, msg_start, len(result))\n",
      "c:\\Users\\ahmet\\anaconda3\\envs\\AhmetRasimOzcan\\lib\\site-packages\\sklearn\\metrics\\_classification.py:1469: UndefinedMetricWarning: Precision is ill-defined and being set to 0.0 in labels with no predicted samples. Use `zero_division` parameter to control this behavior.\n",
      "  _warn_prf(average, modifier, msg_start, len(result))\n"
     ]
    },
    {
     "name": "stdout",
     "output_type": "stream",
     "text": [
      "\n",
      "Döngü 5 - Random Forest Sınıflandırma Sonuçları:\n",
      "R2 Score: 0.7388310342925861\n",
      "F1 Score: 0.03727852741937249\n",
      "Recall: 0.03955399061032864\n",
      "Precision: 0.04894366197183098\n"
     ]
    },
    {
     "name": "stderr",
     "output_type": "stream",
     "text": [
      "c:\\Users\\ahmet\\anaconda3\\envs\\AhmetRasimOzcan\\lib\\site-packages\\sklearn\\metrics\\_classification.py:1469: UndefinedMetricWarning: Recall is ill-defined and being set to 0.0 in labels with no true samples. Use `zero_division` parameter to control this behavior.\n",
      "  _warn_prf(average, modifier, msg_start, len(result))\n",
      "c:\\Users\\ahmet\\anaconda3\\envs\\AhmetRasimOzcan\\lib\\site-packages\\sklearn\\metrics\\_classification.py:1469: UndefinedMetricWarning: Precision is ill-defined and being set to 0.0 in labels with no predicted samples. Use `zero_division` parameter to control this behavior.\n",
      "  _warn_prf(average, modifier, msg_start, len(result))\n"
     ]
    },
    {
     "name": "stdout",
     "output_type": "stream",
     "text": [
      "\n",
      "Döngü 6 - Random Forest Sınıflandırma Sonuçları:\n",
      "R2 Score: 0.7411811183889838\n",
      "F1 Score: 0.02765917491944889\n",
      "Recall: 0.036073059360730596\n",
      "Precision: 0.02555446836268754\n"
     ]
    },
    {
     "name": "stderr",
     "output_type": "stream",
     "text": [
      "c:\\Users\\ahmet\\anaconda3\\envs\\AhmetRasimOzcan\\lib\\site-packages\\sklearn\\metrics\\_classification.py:1469: UndefinedMetricWarning: Recall is ill-defined and being set to 0.0 in labels with no true samples. Use `zero_division` parameter to control this behavior.\n",
      "  _warn_prf(average, modifier, msg_start, len(result))\n",
      "c:\\Users\\ahmet\\anaconda3\\envs\\AhmetRasimOzcan\\lib\\site-packages\\sklearn\\metrics\\_classification.py:1469: UndefinedMetricWarning: Precision is ill-defined and being set to 0.0 in labels with no predicted samples. Use `zero_division` parameter to control this behavior.\n",
      "  _warn_prf(average, modifier, msg_start, len(result))\n"
     ]
    },
    {
     "name": "stdout",
     "output_type": "stream",
     "text": [
      "\n",
      "Döngü 7 - Random Forest Sınıflandırma Sonuçları:\n",
      "R2 Score: 0.782285035780617\n",
      "F1 Score: 0.05894660894660895\n",
      "Recall: 0.07411616161616162\n",
      "Precision: 0.06304112554112554\n"
     ]
    },
    {
     "name": "stderr",
     "output_type": "stream",
     "text": [
      "c:\\Users\\ahmet\\anaconda3\\envs\\AhmetRasimOzcan\\lib\\site-packages\\sklearn\\metrics\\_classification.py:1469: UndefinedMetricWarning: Recall is ill-defined and being set to 0.0 in labels with no true samples. Use `zero_division` parameter to control this behavior.\n",
      "  _warn_prf(average, modifier, msg_start, len(result))\n",
      "c:\\Users\\ahmet\\anaconda3\\envs\\AhmetRasimOzcan\\lib\\site-packages\\sklearn\\metrics\\_classification.py:1469: UndefinedMetricWarning: Precision is ill-defined and being set to 0.0 in labels with no predicted samples. Use `zero_division` parameter to control this behavior.\n",
      "  _warn_prf(average, modifier, msg_start, len(result))\n"
     ]
    },
    {
     "name": "stdout",
     "output_type": "stream",
     "text": [
      "\n",
      "Döngü 8 - Random Forest Sınıflandırma Sonuçları:\n",
      "R2 Score: 0.6968062815538925\n",
      "F1 Score: 0.03542599375932709\n",
      "Recall: 0.04399801587301587\n",
      "Precision: 0.04467041446208112\n"
     ]
    },
    {
     "name": "stderr",
     "output_type": "stream",
     "text": [
      "c:\\Users\\ahmet\\anaconda3\\envs\\AhmetRasimOzcan\\lib\\site-packages\\sklearn\\metrics\\_classification.py:1469: UndefinedMetricWarning: Recall is ill-defined and being set to 0.0 in labels with no true samples. Use `zero_division` parameter to control this behavior.\n",
      "  _warn_prf(average, modifier, msg_start, len(result))\n",
      "c:\\Users\\ahmet\\anaconda3\\envs\\AhmetRasimOzcan\\lib\\site-packages\\sklearn\\metrics\\_classification.py:1469: UndefinedMetricWarning: Precision is ill-defined and being set to 0.0 in labels with no predicted samples. Use `zero_division` parameter to control this behavior.\n",
      "  _warn_prf(average, modifier, msg_start, len(result))\n"
     ]
    },
    {
     "name": "stdout",
     "output_type": "stream",
     "text": [
      "\n",
      "Döngü 9 - Random Forest Sınıflandırma Sonuçları:\n",
      "R2 Score: 0.7506456514659089\n",
      "F1 Score: 0.04173077681776936\n",
      "Recall: 0.05459423205902079\n",
      "Precision: 0.0397887323943662\n",
      "\n",
      "Döngü 10 - Random Forest Sınıflandırma Sonuçları:\n",
      "R2 Score: 0.7219799780856191\n",
      "F1 Score: 0.04572118702553484\n",
      "Recall: 0.05957556935817805\n",
      "Precision: 0.04246606855302507\n"
     ]
    },
    {
     "name": "stderr",
     "output_type": "stream",
     "text": [
      "c:\\Users\\ahmet\\anaconda3\\envs\\AhmetRasimOzcan\\lib\\site-packages\\sklearn\\metrics\\_classification.py:1469: UndefinedMetricWarning: Recall is ill-defined and being set to 0.0 in labels with no true samples. Use `zero_division` parameter to control this behavior.\n",
      "  _warn_prf(average, modifier, msg_start, len(result))\n",
      "c:\\Users\\ahmet\\anaconda3\\envs\\AhmetRasimOzcan\\lib\\site-packages\\sklearn\\metrics\\_classification.py:1469: UndefinedMetricWarning: Precision is ill-defined and being set to 0.0 in labels with no predicted samples. Use `zero_division` parameter to control this behavior.\n",
      "  _warn_prf(average, modifier, msg_start, len(result))\n"
     ]
    }
   ],
   "source": [
    "import pandas as pd\n",
    "from sklearn.model_selection import train_test_split\n",
    "from sklearn.ensemble import RandomForestClassifier\n",
    "from sklearn.metrics import r2_score, f1_score, recall_score, precision_score\n",
    "from sklearn.preprocessing import LabelEncoder\n",
    "\n",
    "# Veriyi oku\n",
    "df = pd.read_csv('exams.csv')\n",
    "\n",
    "# Veriyi hazırla\n",
    "X = df.drop(['math score'], axis=1)\n",
    "y = df['math score']\n",
    "\n",
    "# Label Encoding\n",
    "label_encoder = LabelEncoder()\n",
    "for column in X.select_dtypes(include=['object']).columns:\n",
    "    X[column] = label_encoder.fit_transform(X[column])\n",
    "\n",
    "# Döngü içinde işlemleri 10 kere tekrarla\n",
    "for i in range(10):\n",
    "    # Veriyi eğitim ve test setlerine ayır\n",
    "    X_train, X_test, y_train, y_test = train_test_split(X, y, test_size=0.2, random_state=None)\n",
    "\n",
    "    # Random Forest Classifier modelini seç ve eğit\n",
    "    random_forest_classifier = RandomForestClassifier(random_state=None)\n",
    "    random_forest_classifier.fit(X_train, y_train)\n",
    "\n",
    "    # Algoritmayı kullanarak tahmin yap\n",
    "    y_pred_rf = random_forest_classifier.predict(X_test)\n",
    "\n",
    "    # Sınıflandırma metriklerini hesapla\n",
    "    r2_rf = r2_score(y_test, y_pred_rf)\n",
    "    f1_rf = f1_score(y_test, y_pred_rf, average='macro')\n",
    "    recall_rf = recall_score(y_test, y_pred_rf, average='macro')\n",
    "    precision_rf = precision_score(y_test, y_pred_rf, average='macro')\n",
    "\n",
    "    # Çıktıları ekrana yazdır\n",
    "    print(f\"\\nDöngü {i + 1} - Random Forest Sınıflandırma Sonuçları:\")\n",
    "    print(f\"R2 Score: {r2_rf}\")\n",
    "    print(f\"F1 Score: {f1_rf}\")\n",
    "    print(f\"Recall: {recall_rf}\")\n",
    "    print(f\"Precision: {precision_rf}\")"
   ]
  },
  {
   "cell_type": "code",
   "execution_count": 15,
   "metadata": {},
   "outputs": [
    {
     "name": "stdout",
     "output_type": "stream",
     "text": [
      "\n",
      "Döngü 1 - Decision Tree Sınıflandırma Sonuçları:\n",
      "R2 Score: 0.6886336208163779\n",
      "F1 Score: 0.02436499337907789\n",
      "Recall: 0.034976525821596244\n",
      "Precision: 0.02535211267605634\n",
      "\n",
      "Döngü 2 - Decision Tree Sınıflandırma Sonuçları:\n",
      "R2 Score: 0.6682692307692308\n",
      "F1 Score: 0.011504891811797185\n",
      "Recall: 0.0213768115942029\n",
      "Precision: 0.010547504025764895\n",
      "\n",
      "Döngü 3 - Decision Tree Sınıflandırma Sonuçları:\n",
      "R2 Score: 0.6928927488565702\n",
      "F1 Score: 0.05496872408637115\n",
      "Recall: 0.07048319327731092\n",
      "Precision: 0.06094187675070028\n",
      "\n",
      "Döngü 4 - Decision Tree Sınıflandırma Sonuçları:\n",
      "R2 Score: 0.6868989633682949\n",
      "F1 Score: 0.04791518597488746\n",
      "Recall: 0.06343283582089553\n",
      "Precision: 0.04428614503241369\n",
      "\n",
      "Döngü 5 - Decision Tree Sınıflandırma Sonuçları:\n",
      "R2 Score: 0.7067743065168803\n",
      "F1 Score: 0.04600655076845553\n",
      "Recall: 0.06271730914588057\n",
      "Precision: 0.047921390778533635\n",
      "\n",
      "Döngü 6 - Decision Tree Sınıflandırma Sonuçları:\n",
      "R2 Score: 0.7388926519422547\n",
      "F1 Score: 0.045992564649281066\n",
      "Recall: 0.04866737739872067\n",
      "Precision: 0.04622127457948354\n",
      "\n",
      "Döngü 7 - Decision Tree Sınıflandırma Sonuçları:\n",
      "R2 Score: 0.6667979724053126\n",
      "F1 Score: 0.02918209736391555\n",
      "Recall: 0.03347763347763348\n",
      "Precision: 0.029335016835016832\n",
      "\n",
      "Döngü 8 - Decision Tree Sınıflandırma Sonuçları:\n",
      "R2 Score: 0.6505863099118452\n",
      "F1 Score: 0.03883790358248563\n",
      "Recall: 0.040430035650623884\n",
      "Precision: 0.044275210084033616\n",
      "\n",
      "Döngü 9 - Decision Tree Sınıflandırma Sonuçları:\n",
      "R2 Score: 0.5809197823415833\n",
      "F1 Score: 0.03591408591408591\n",
      "Recall: 0.03189775910364146\n",
      "Precision: 0.04636437908496732\n",
      "\n",
      "Döngü 10 - Decision Tree Sınıflandırma Sonuçları:\n",
      "R2 Score: 0.611433203891212\n",
      "F1 Score: 0.04283455317610916\n",
      "Recall: 0.0575652841781874\n",
      "Precision: 0.046512358609132796\n"
     ]
    },
    {
     "name": "stderr",
     "output_type": "stream",
     "text": [
      "c:\\Users\\ahmet\\anaconda3\\envs\\AhmetRasimOzcan\\lib\\site-packages\\sklearn\\metrics\\_classification.py:1469: UndefinedMetricWarning: Recall is ill-defined and being set to 0.0 in labels with no true samples. Use `zero_division` parameter to control this behavior.\n",
      "  _warn_prf(average, modifier, msg_start, len(result))\n",
      "c:\\Users\\ahmet\\anaconda3\\envs\\AhmetRasimOzcan\\lib\\site-packages\\sklearn\\metrics\\_classification.py:1469: UndefinedMetricWarning: Precision is ill-defined and being set to 0.0 in labels with no predicted samples. Use `zero_division` parameter to control this behavior.\n",
      "  _warn_prf(average, modifier, msg_start, len(result))\n",
      "c:\\Users\\ahmet\\anaconda3\\envs\\AhmetRasimOzcan\\lib\\site-packages\\sklearn\\metrics\\_classification.py:1469: UndefinedMetricWarning: Recall is ill-defined and being set to 0.0 in labels with no true samples. Use `zero_division` parameter to control this behavior.\n",
      "  _warn_prf(average, modifier, msg_start, len(result))\n",
      "c:\\Users\\ahmet\\anaconda3\\envs\\AhmetRasimOzcan\\lib\\site-packages\\sklearn\\metrics\\_classification.py:1469: UndefinedMetricWarning: Precision is ill-defined and being set to 0.0 in labels with no predicted samples. Use `zero_division` parameter to control this behavior.\n",
      "  _warn_prf(average, modifier, msg_start, len(result))\n",
      "c:\\Users\\ahmet\\anaconda3\\envs\\AhmetRasimOzcan\\lib\\site-packages\\sklearn\\metrics\\_classification.py:1469: UndefinedMetricWarning: Recall is ill-defined and being set to 0.0 in labels with no true samples. Use `zero_division` parameter to control this behavior.\n",
      "  _warn_prf(average, modifier, msg_start, len(result))\n",
      "c:\\Users\\ahmet\\anaconda3\\envs\\AhmetRasimOzcan\\lib\\site-packages\\sklearn\\metrics\\_classification.py:1469: UndefinedMetricWarning: Precision is ill-defined and being set to 0.0 in labels with no predicted samples. Use `zero_division` parameter to control this behavior.\n",
      "  _warn_prf(average, modifier, msg_start, len(result))\n",
      "c:\\Users\\ahmet\\anaconda3\\envs\\AhmetRasimOzcan\\lib\\site-packages\\sklearn\\metrics\\_classification.py:1469: UndefinedMetricWarning: Recall is ill-defined and being set to 0.0 in labels with no true samples. Use `zero_division` parameter to control this behavior.\n",
      "  _warn_prf(average, modifier, msg_start, len(result))\n",
      "c:\\Users\\ahmet\\anaconda3\\envs\\AhmetRasimOzcan\\lib\\site-packages\\sklearn\\metrics\\_classification.py:1469: UndefinedMetricWarning: Precision is ill-defined and being set to 0.0 in labels with no predicted samples. Use `zero_division` parameter to control this behavior.\n",
      "  _warn_prf(average, modifier, msg_start, len(result))\n",
      "c:\\Users\\ahmet\\anaconda3\\envs\\AhmetRasimOzcan\\lib\\site-packages\\sklearn\\metrics\\_classification.py:1469: UndefinedMetricWarning: Recall is ill-defined and being set to 0.0 in labels with no true samples. Use `zero_division` parameter to control this behavior.\n",
      "  _warn_prf(average, modifier, msg_start, len(result))\n",
      "c:\\Users\\ahmet\\anaconda3\\envs\\AhmetRasimOzcan\\lib\\site-packages\\sklearn\\metrics\\_classification.py:1469: UndefinedMetricWarning: Precision is ill-defined and being set to 0.0 in labels with no predicted samples. Use `zero_division` parameter to control this behavior.\n",
      "  _warn_prf(average, modifier, msg_start, len(result))\n",
      "c:\\Users\\ahmet\\anaconda3\\envs\\AhmetRasimOzcan\\lib\\site-packages\\sklearn\\metrics\\_classification.py:1469: UndefinedMetricWarning: Recall is ill-defined and being set to 0.0 in labels with no true samples. Use `zero_division` parameter to control this behavior.\n",
      "  _warn_prf(average, modifier, msg_start, len(result))\n",
      "c:\\Users\\ahmet\\anaconda3\\envs\\AhmetRasimOzcan\\lib\\site-packages\\sklearn\\metrics\\_classification.py:1469: UndefinedMetricWarning: Precision is ill-defined and being set to 0.0 in labels with no predicted samples. Use `zero_division` parameter to control this behavior.\n",
      "  _warn_prf(average, modifier, msg_start, len(result))\n",
      "c:\\Users\\ahmet\\anaconda3\\envs\\AhmetRasimOzcan\\lib\\site-packages\\sklearn\\metrics\\_classification.py:1469: UndefinedMetricWarning: Recall is ill-defined and being set to 0.0 in labels with no true samples. Use `zero_division` parameter to control this behavior.\n",
      "  _warn_prf(average, modifier, msg_start, len(result))\n",
      "c:\\Users\\ahmet\\anaconda3\\envs\\AhmetRasimOzcan\\lib\\site-packages\\sklearn\\metrics\\_classification.py:1469: UndefinedMetricWarning: Precision is ill-defined and being set to 0.0 in labels with no predicted samples. Use `zero_division` parameter to control this behavior.\n",
      "  _warn_prf(average, modifier, msg_start, len(result))\n",
      "c:\\Users\\ahmet\\anaconda3\\envs\\AhmetRasimOzcan\\lib\\site-packages\\sklearn\\metrics\\_classification.py:1469: UndefinedMetricWarning: Recall is ill-defined and being set to 0.0 in labels with no true samples. Use `zero_division` parameter to control this behavior.\n",
      "  _warn_prf(average, modifier, msg_start, len(result))\n",
      "c:\\Users\\ahmet\\anaconda3\\envs\\AhmetRasimOzcan\\lib\\site-packages\\sklearn\\metrics\\_classification.py:1469: UndefinedMetricWarning: Precision is ill-defined and being set to 0.0 in labels with no predicted samples. Use `zero_division` parameter to control this behavior.\n",
      "  _warn_prf(average, modifier, msg_start, len(result))\n",
      "c:\\Users\\ahmet\\anaconda3\\envs\\AhmetRasimOzcan\\lib\\site-packages\\sklearn\\metrics\\_classification.py:1469: UndefinedMetricWarning: Recall is ill-defined and being set to 0.0 in labels with no true samples. Use `zero_division` parameter to control this behavior.\n",
      "  _warn_prf(average, modifier, msg_start, len(result))\n",
      "c:\\Users\\ahmet\\anaconda3\\envs\\AhmetRasimOzcan\\lib\\site-packages\\sklearn\\metrics\\_classification.py:1469: UndefinedMetricWarning: Precision is ill-defined and being set to 0.0 in labels with no predicted samples. Use `zero_division` parameter to control this behavior.\n",
      "  _warn_prf(average, modifier, msg_start, len(result))\n",
      "c:\\Users\\ahmet\\anaconda3\\envs\\AhmetRasimOzcan\\lib\\site-packages\\sklearn\\metrics\\_classification.py:1469: UndefinedMetricWarning: Recall is ill-defined and being set to 0.0 in labels with no true samples. Use `zero_division` parameter to control this behavior.\n",
      "  _warn_prf(average, modifier, msg_start, len(result))\n",
      "c:\\Users\\ahmet\\anaconda3\\envs\\AhmetRasimOzcan\\lib\\site-packages\\sklearn\\metrics\\_classification.py:1469: UndefinedMetricWarning: Precision is ill-defined and being set to 0.0 in labels with no predicted samples. Use `zero_division` parameter to control this behavior.\n",
      "  _warn_prf(average, modifier, msg_start, len(result))\n"
     ]
    }
   ],
   "source": [
    "import pandas as pd\n",
    "from sklearn.model_selection import train_test_split\n",
    "from sklearn.tree import DecisionTreeClassifier\n",
    "from sklearn.metrics import r2_score, f1_score, recall_score, precision_score\n",
    "from sklearn.preprocessing import LabelEncoder\n",
    "\n",
    "# Veriyi oku\n",
    "df = pd.read_csv('exams.csv')\n",
    "\n",
    "# Veriyi hazırla\n",
    "X = df.drop(['math score'], axis=1)\n",
    "y = df['math score']\n",
    "\n",
    "# Label Encoding\n",
    "label_encoder = LabelEncoder()\n",
    "for column in X.select_dtypes(include=['object']).columns:\n",
    "    X[column] = label_encoder.fit_transform(X[column])\n",
    "\n",
    "# Döngü içinde işlemleri 10 kere tekrarla\n",
    "for i in range(10):\n",
    "    # Veriyi eğitim ve test setlerine ayır\n",
    "    X_train, X_test, y_train, y_test = train_test_split(X, y, test_size=0.2, random_state=None)\n",
    "\n",
    "    # Decision Tree Classifier modelini seç ve eğit\n",
    "    decision_tree_classifier = DecisionTreeClassifier(random_state=None)\n",
    "    decision_tree_classifier.fit(X_train, y_train)\n",
    "\n",
    "    # Algoritmayı kullanarak tahmin yap\n",
    "    y_pred_dt = decision_tree_classifier.predict(X_test)\n",
    "\n",
    "    # Sınıflandırma metriklerini hesapla\n",
    "    r2_dt = r2_score(y_test, y_pred_dt)\n",
    "    f1_dt = f1_score(y_test, y_pred_dt, average='macro')\n",
    "    recall_dt = recall_score(y_test, y_pred_dt, average='macro')\n",
    "    precision_dt = precision_score(y_test, y_pred_dt, average='macro')\n",
    "\n",
    "    # Çıktıları ekrana yazdır\n",
    "    print(f\"\\nDöngü {i + 1} - Decision Tree Sınıflandırma Sonuçları:\")\n",
    "    print(f\"R2 Score: {r2_dt}\")\n",
    "    print(f\"F1 Score: {f1_dt}\")\n",
    "    print(f\"Recall: {recall_dt}\")\n",
    "    print(f\"Precision: {precision_dt}\")"
   ]
  },
  {
   "cell_type": "code",
   "execution_count": 13,
   "metadata": {},
   "outputs": [
    {
     "name": "stdout",
     "output_type": "stream",
     "text": [
      "\n",
      "R2 Scores T-Test:\n",
      "T-Statistic: 5.667068412141829\n",
      "P-Value: 0.00030686526778479593\n",
      "İki algoritma arasında istatistiksel olarak anlamlı bir fark var.\n",
      "\n",
      "F1 Scores T-Test:\n",
      "T-Statistic: 2.215484273828776\n",
      "P-Value: 0.05396023248823963\n",
      "İki algoritma arasında istatistiksel olarak anlamlı bir fark yok.\n",
      "\n",
      "Recall Scores T-Test:\n",
      "T-Statistic: 1.6743974013388219\n",
      "P-Value: 0.12837618456596678\n",
      "İki algoritma arasında istatistiksel olarak anlamlı bir fark yok.\n",
      "\n",
      "Precision Scores T-Test:\n",
      "T-Statistic: 1.9550489835966727\n",
      "P-Value: 0.08229656433002211\n",
      "İki algoritma arasında istatistiksel olarak anlamlı bir fark yok.\n"
     ]
    }
   ],
   "source": [
    "from scipy.stats import ttest_rel\n",
    "\n",
    "# Random Forest ve Decision Tree R2, F1, Recall ve Precision skorları\n",
    "r2_scores_random_forest = [\n",
    "    0.7370548220933352, 0.6718090152235181, 0.754699499560184, 0.7684355204971913, 0.7655588918002298,\n",
    "    0.7986735168831645, 0.6832764828046444, 0.8098488731909552, 0.6777837651268614, 0.7268027889148035\n",
    "]\n",
    "\n",
    "f1_scores_random_forest = [\n",
    "    0.0527791842860336, 0.04812476081132798, 0.05827442820196443, 0.05484116822144992, 0.06522647876814543,\n",
    "    0.0529744121293417, 0.020001102292768955, 0.044651655534008475, 0.04075622445187662, 0.05126119162987432\n",
    "]\n",
    "\n",
    "recall_scores_random_forest = [\n",
    "    0.05771906936290498, 0.049129353233830844, 0.06255511463844797, 0.06410127431254192, 0.08013117283950616,\n",
    "    0.056611893583724565, 0.02364417989417989, 0.051682539682539684, 0.03682476943346509, 0.07661524703778225\n",
    "]\n",
    "\n",
    "precision_scores_random_forest = [\n",
    "    0.06571092529996639, 0.05984363894811656, 0.08528439153439155, 0.05389000670690811, 0.059953703703703703,\n",
    "    0.06600156494522691, 0.019036596119929455, 0.05837614237614237, 0.049896480331262934, 0.045696400625978094\n",
    "]\n",
    "\n",
    "r2_scores_decision_tree = [\n",
    "    0.7136727520699961, 0.6349874883177584, 0.6810070552472434, 0.5832756141483868, 0.7051055420883372,\n",
    "    0.6716192735739264, 0.6099164514463853, 0.6881960198377182, 0.6087585864297254, 0.6444308441291035\n",
    "]\n",
    "\n",
    "f1_scores_decision_tree = [\n",
    "    0.05392616642616643, 0.062402814576727625, 0.02716392430351241, 0.0015117157974300832, 0.03305807809567208,\n",
    "    0.04153423548547169, 0.03181403186458327, 0.024330829354530227, 0.03305807809567208, 0.03305807809567208\n",
    "]\n",
    "\n",
    "recall_scores_decision_tree = [\n",
    "    0.06301807760141093, 0.06899063094715269, 0.02608695652173913, 0.0013227513227513227, 0.04108843537414966,\n",
    "    0.05891891891891892, 0.03968253968253968, 0.043803418803418804, 0.030021091811414393, 0.04108843537414966\n",
    "]\n",
    "\n",
    "precision_scores_decision_tree = [\n",
    "    0.05866402116402117, 0.06373936047849091, 0.038808373590982284, 0.001763668430335097, 0.04710144927536232,\n",
    "    0.04659598234265583, 0.04079182960606736, 0.04179954830859289, 0.04249831237322556, 0.04502886002886003\n",
    "]\n",
    "\n",
    "# T-Test for R2\n",
    "t_statistic_r2, p_value_r2 = ttest_rel(r2_scores_random_forest, r2_scores_decision_tree)\n",
    "\n",
    "# T-Test for F1\n",
    "t_statistic_f1, p_value_f1 = ttest_rel(f1_scores_random_forest, f1_scores_decision_tree)\n",
    "\n",
    "# T-Test for Recall\n",
    "t_statistic_recall, p_value_recall = ttest_rel(recall_scores_random_forest, recall_scores_decision_tree)\n",
    "\n",
    "# T-Test for Precision\n",
    "t_statistic_precision, p_value_precision = ttest_rel(precision_scores_random_forest, precision_scores_decision_tree)\n",
    "\n",
    "# alpha değerini tanımla (örneğin, 0.05)\n",
    "alpha = 0.05\n",
    "\n",
    "# Results for R2\n",
    "print(\"\\nR2 Scores T-Test:\")\n",
    "print(f\"T-Statistic: {t_statistic_r2}\")\n",
    "print(f\"P-Value: {p_value_r2}\")\n",
    "if p_value_r2 < alpha:\n",
    "    print(\"İki algoritma arasında istatistiksel olarak anlamlı bir fark var.\")\n",
    "else:\n",
    "    print(\"İki algoritma arasında istatistiksel olarak anlamlı bir fark yok.\")\n",
    "\n",
    "# Results for F1\n",
    "print(\"\\nF1 Scores T-Test:\")\n",
    "print(f\"T-Statistic: {t_statistic_f1}\")\n",
    "print(f\"P-Value: {p_value_f1}\")\n",
    "if p_value_f1 < alpha:\n",
    "    print(\"İki algoritma arasında istatistiksel olarak anlamlı bir fark var.\")\n",
    "else:\n",
    "    print(\"İki algoritma arasında istatistiksel olarak anlamlı bir fark yok.\")\n",
    "\n",
    "# Results for Recall\n",
    "print(\"\\nRecall Scores T-Test:\")\n",
    "print(f\"T-Statistic: {t_statistic_recall}\")\n",
    "print(f\"P-Value: {p_value_recall}\")\n",
    "if p_value_recall < alpha:\n",
    "    print(\"İki algoritma arasında istatistiksel olarak anlamlı bir fark var.\")\n",
    "else:\n",
    "    print(\"İki algoritma arasında istatistiksel olarak anlamlı bir fark yok.\")\n",
    "\n",
    "# Results for Precision\n",
    "print(\"\\nPrecision Scores T-Test:\")\n",
    "print(f\"T-Statistic: {t_statistic_precision}\")\n",
    "print(f\"P-Value: {p_value_precision}\")\n",
    "if p_value_precision < alpha:\n",
    "    print(\"İki algoritma arasında istatistiksel olarak anlamlı bir fark var.\")\n",
    "else:\n",
    "    print(\"İki algoritma arasında istatistiksel olarak anlamlı bir fark yok.\")\n"
   ]
  },
  {
   "cell_type": "markdown",
   "metadata": {},
   "source": [
    "Metriklerin daha iyi olup olmadığına karar vermek, belirli bir problem bağlamında ve hedefe bağlı olarak değişir. Ancak, genel olarak, bir algoritmanın diğerine göre daha iyi olduğunu söyleyebilmek için bazı genel değerlendirmeler yapabiliriz.\n",
    "\n",
    "İdeal olarak, yüksek R2, F1 Score, Precision ve Recall değerleri arzu edilir. Ancak, bu metrikler birbirleriyle çatışabilir. Örneğin, Precision ve Recall arasında bir denge kurmak gerekebilir. Precision, yanlış pozitif tahminlerin düşük olmasını isterken, Recall, gerçek pozitif tahminlerin kaçırılmamasını ister.\n",
    "\n",
    "Eğer tüm metrikler benzer performans gösteriyorsa, modelinizi seçerken başka faktörlere de bakabilirsiniz. Örneğin, modelin eğitilmesi, tahmin yapılması ve anlaşılması açısından hangi algoritmanın daha hızlı olduğunu değerlendirebilirsiniz.\n",
    "\n",
    "Ancak, sadece bu metriklere dayanarak bir algoritmanın diğerinden daha iyi olduğunu söylemek genellikle yetersiz olabilir. Genellikle, bir modelin gerçek dünya performansını değerlendirmek için çeşitli yöntemler ve domain bilgisi gereklidir."
   ]
  }
 ],
 "metadata": {
  "kernelspec": {
   "display_name": "base",
   "language": "python",
   "name": "python3"
  },
  "language_info": {
   "codemirror_mode": {
    "name": "ipython",
    "version": 3
   },
   "file_extension": ".py",
   "mimetype": "text/x-python",
   "name": "python",
   "nbconvert_exporter": "python",
   "pygments_lexer": "ipython3",
   "version": "3.9.18"
  }
 },
 "nbformat": 4,
 "nbformat_minor": 2
}
